{
 "cells": [
  {
   "cell_type": "code",
   "execution_count": 16,
   "id": "85a416c3",
   "metadata": {},
   "outputs": [],
   "source": [
    "import torch\n",
    "import torch.nn as nn\n",
    "import numpy as np\n",
    "import time\n",
    "# import timeit"
   ]
  },
  {
   "cell_type": "code",
   "execution_count": 17,
   "id": "e50804a7",
   "metadata": {},
   "outputs": [
    {
     "data": {
      "text/plain": [
       "device(type='cuda', index=0)"
      ]
     },
     "execution_count": 17,
     "metadata": {},
     "output_type": "execute_result"
    }
   ],
   "source": [
    "DEVICE = torch.device(\"cuda:0\" if torch.cuda.is_available() else \"cpu\")\n",
    "DEVICE\n"
   ]
  },
  {
   "cell_type": "code",
   "execution_count": 18,
   "id": "e8b79940",
   "metadata": {},
   "outputs": [],
   "source": [
    "def save_bin(path, inn):\n",
    "    f = open(path, 'wb')\n",
    "    for item in inn:\n",
    "        s = str(item) + '\\n'\n",
    "        bt = s.encode()\n",
    "        f.write(bt)\n",
    "    f.close()"
   ]
  },
  {
   "cell_type": "code",
   "execution_count": 19,
   "id": "a89843d6",
   "metadata": {},
   "outputs": [],
   "source": [
    "class Net(nn.Module):\n",
    "    def __init__(self):\n",
    "         super(Net, self).__init__()\n",
    "         self.fc1 = nn.Linear(32**2, 16**2) # входной слой\n",
    "         self.fc2 = nn.Linear(16**2, 4**2) # скрытый слой\n",
    "         self.fc3 = nn.Linear(4**2,1) # скрытый слой\n",
    "\n",
    "    def forward(self, x):\n",
    "        sigmoid = nn.Sigmoid()\n",
    "        x = self.fc1(x)\n",
    "        x = sigmoid(x)\n",
    "        x = self.fc2(x)\n",
    "        x = sigmoid(x)\n",
    "        x = sigmoid(self.fc3(x))\n",
    "        return x"
   ]
  },
  {
   "cell_type": "code",
   "execution_count": 35,
   "id": "1e4e939c",
   "metadata": {},
   "outputs": [
    {
     "name": "stdout",
     "output_type": "stream",
     "text": [
      "result: 0.57485646\n",
      "time:  0.459 s\n"
     ]
    },
    {
     "name": "stderr",
     "output_type": "stream",
     "text": [
      "/tmp/ipykernel_881802/1688087291.py:1: UserWarning: To copy construct from a tensor, it is recommended to use sourceTensor.clone().detach() or sourceTensor.clone().detach().requires_grad_(True), rather than torch.tensor(sourceTensor).\n",
      "  input_layer = torch.tensor(torch.rand(32**2), device=DEVICE) # входные данные нейронной сети\n"
     ]
    }
   ],
   "source": [
    "input_layer = torch.tensor(torch.rand(32**2), device=DEVICE) # входные данные нейронной сети\n",
    "start = time.time() ## точка отсчета времени\n",
    "net = Net() # создание объекта \"нейронная сеть\"\n",
    "net.to(DEVICE)\n",
    "save_bin('./inputs1.bin', input_layer.cpu().detach().numpy())\n",
    "result = net(input_layer)# запуск прямого распространения информации\n",
    "print(\"result:\",result.cpu().detach().numpy()[0])\n",
    "end = time.time() - start ## собственно время работы программы\n",
    "\n",
    "print(\"time: \",round(end*100,3),\"s\") ## вывод времени"
   ]
  },
  {
   "cell_type": "code",
   "execution_count": 36,
   "id": "836fc6b4",
   "metadata": {},
   "outputs": [],
   "source": [
    "save, counter = 1, 1\n",
    "for j in net.parameters():\n",
    "    if counter%2 == 1:\n",
    "        save_bin(f'./weights{save}.bin', j.cpu().detach().numpy().flatten())\n",
    "    else:\n",
    "        save_bin(f'./biases{save}.bin', j.cpu().detach().numpy().flatten())\n",
    "        save+=1\n",
    "    counter+=1"
   ]
  },
  {
   "cell_type": "code",
   "execution_count": null,
   "id": "b17970df",
   "metadata": {},
   "outputs": [],
   "source": []
  }
 ],
 "metadata": {
  "kernelspec": {
   "display_name": "Python 3 (ipykernel)",
   "language": "python",
   "name": "python3"
  },
  "language_info": {
   "codemirror_mode": {
    "name": "ipython",
    "version": 3
   },
   "file_extension": ".py",
   "mimetype": "text/x-python",
   "name": "python",
   "nbconvert_exporter": "python",
   "pygments_lexer": "ipython3",
   "version": "3.8.10"
  }
 },
 "nbformat": 4,
 "nbformat_minor": 5
}
